{
  "nbformat": 4,
  "nbformat_minor": 0,
  "metadata": {
    "colab": {
      "provenance": [],
      "collapsed_sections": []
    },
    "kernelspec": {
      "name": "ir",
      "display_name": "R"
    },
    "language_info": {
      "name": "R"
    }
  },
  "cells": [
    {
      "cell_type": "markdown",
      "source": [
        "# **Utilizando o R para obter dados do SUS**\n",
        "Autor: Ivan Zimmermann (ivanzricardo@gmail.com)"
      ],
      "metadata": {
        "id": "EL38Pmhqo1dX"
      }
    },
    {
      "cell_type": "markdown",
      "source": [
        "**O pacote microdatasus**\n",
        "\n",
        "Idealizado e implementado por Saldanha et al (2019), o microdatasus é um pacote estatístico na linguagem R para download e pré-processamento de microdados do Departamento de Informática do SUS (DATASUS). Sua aplicação torna muito prática a atividade de obtenção dos dados e tradução dos códigos disponíveis nas tabelas do DATASUS\n",
        "\n",
        "O pacote lida com alguns bancos de dados dos principais sistemas do DATASUS, como o SIM, SINASC e SIH-RD.\n",
        "\n",
        "Referência\n",
        "\n",
        "Artigo: https://doi.org/10.1590/0102-311X00032419\n",
        "\n",
        "Github: https://github.com/rfsaldanha/microdatasus"
      ],
      "metadata": {
        "id": "YwQe_PsdpIYQ"
      }
    },
    {
      "cell_type": "markdown",
      "source": [
        "**Instalando o pacote**\n",
        "\n",
        "Os códigos abaixo permitem a instalação e ativação da versão mais recente do pacote disponível na plataforma GitHub"
      ],
      "metadata": {
        "id": "iySnW8n3qTB2"
      }
    },
    {
      "cell_type": "code",
      "source": [
        "#Instalar o pacote microdatasus para download e leitura dos arquivos\n",
        "install.packages(\"remotes\")\n",
        "remotes::install_github(\"rfsaldanha/microdatasus\")"
      ],
      "metadata": {
        "id": "Rbo5sPWMqwzq"
      },
      "execution_count": null,
      "outputs": []
    },
    {
      "cell_type": "code",
      "source": [
        "#Ativar o pacote\n",
        "#Insira sua resposta aqui#"
      ],
      "metadata": {
        "id": "LgjxkOuUq7qK"
      },
      "execution_count": null,
      "outputs": []
    },
    {
      "cell_type": "markdown",
      "source": [
        "**Obtendo os arquivos de dados**\n",
        "\n",
        "Aobtenção de dados é implementada coma  função \"fetch_datasus()\" e seus argumentos. Em nosso exemplo, vamos trabalhar com o banco consolidado de AIH (SIH-RD), solicitando o download e leitura dos dados de internações processados no ano de 2018 no Distrito Federal e armazenando no objeto \"dados\":"
      ],
      "metadata": {
        "id": "t8jEinV1rIr-"
      }
    },
    {
      "cell_type": "code",
      "source": [
        "#Opção 1: Solicitar e ler os arquivos de dados necessários\n",
        "dados <- fetch_datasus(\n",
        "  year_start = ????, \n",
        "  year_end = ????,\n",
        "  month_start = ??,\n",
        "  month_end = ??,\n",
        "  uf = ??, \n",
        "  information_system = ????)"
      ],
      "metadata": {
        "id": "ZRoZ1q_QrRv9"
      },
      "execution_count": null,
      "outputs": []
    },
    {
      "cell_type": "code",
      "source": [
        "#Visualize os primeiros registros\n",
        "#Insira sua resposta aqui#"
      ],
      "metadata": {
        "id": "RvWQovh25ytw"
      },
      "execution_count": null,
      "outputs": []
    },
    {
      "cell_type": "code",
      "source": [
        "#Opção 2: Solicitar e ler os arquivos de dados a partir de um repositório\n",
        "\n",
        "#1) Primeiro, criamos um arquivo temporário\n",
        "temp <- tempfile()\n",
        "\n",
        "#2)Depois fazemos o download do arquivo comprimido dentro desse arquivo temporário\n",
        "download.file(\"https://github.com/ivanzricardo/bds/raw/main/aih_df_2018.zip\",temp) \n",
        "\n",
        "#3)Os arquivos estão comprimidos em formato zip, assim precisamos usar a função \n",
        "#unz() dentro do read.csv: read.csv(unz('nomedoarquivo.zip','nomedoarquivo.csv'), header = T)\n",
        "dados <- read.csv(unz(temp,'aih_df_2018.csv'), header = T)\n",
        "\n",
        "#4)Excluímos o arquivo temporário\n",
        "unlink(temp)"
      ],
      "metadata": {
        "id": "pYxptTuebeHw"
      },
      "execution_count": null,
      "outputs": []
    },
    {
      "cell_type": "code",
      "source": [
        "#Visualize os primeiros registros\n",
        "#Insira sua resposta aqui#"
      ],
      "metadata": {
        "id": "OL6l_hL4biMg"
      },
      "execution_count": null,
      "outputs": []
    },
    {
      "cell_type": "code",
      "source": [
        "#Opção 3: Solicitar e ler os arquivos de dados a partir de um arquivo dbc\n",
        "#Primeiro, instale e ative o pacote read.dbc\n",
        "install.packages(\"read.dbc\")\n",
        "library(read.dbc)"
      ],
      "metadata": {
        "id": "iZk4DR-kiG5N"
      },
      "execution_count": null,
      "outputs": []
    },
    {
      "cell_type": "code",
      "source": [
        "#1) Com o read.dbc ativo, siga os mesmos passos de antes, criando um aqruivo temporário\n",
        "temp <- tempfile()\n",
        "\n",
        "#2)Depois fazemos o download do arquivo comprimido dentro desse arquivo temporário\n",
        "download.file(\"https://github.com/ivanzricardo/bds/raw/main/aih_df_2018.dbc\",temp) \n",
        "\n",
        "#3)Os arquivos estão comprimidos em formato zip, assim precisamos usar a função \n",
        "#unz() dentro do read.csv: read.csv(unz('nomedoarquivo.zip','nomedoarquivo.csv'), header = T)\n",
        "dados <- read.dbc(temp)\n",
        "\n",
        "#4)Excluímos o arquivo temporário\n",
        "unlink(temp)"
      ],
      "metadata": {
        "id": "fSvC236IiIQ4"
      },
      "execution_count": null,
      "outputs": []
    },
    {
      "cell_type": "code",
      "source": [
        "#Visualize os primeiros registros\n",
        "#Insira sua resposta aqui#"
      ],
      "metadata": {
        "id": "sEUWhzcDiKnc"
      },
      "execution_count": null,
      "outputs": []
    },
    {
      "cell_type": "markdown",
      "source": [
        "**Processamento dos dados**\n",
        "\n",
        "Além do download, o pacote *microdatasus* permite traduzir a maioria dos códigos disponíveis nos arquivos de dados da AIH **por** meio da função \"process_sih\". Para isso, basta aplicar a função sobre o objeto \"dados\" recém criado:"
      ],
      "metadata": {
        "id": "He-HbKfAr7RB"
      }
    },
    {
      "cell_type": "code",
      "source": [
        "#Processar os dados (traduzir os códigos do banco). Dica: Use uma das opções da \n",
        "#função process do pacote microdatasus\n",
        "#Insira sua resposta aqui#"
      ],
      "metadata": {
        "id": "p5fvHBxwtFy1"
      },
      "execution_count": null,
      "outputs": []
    },
    {
      "cell_type": "code",
      "source": [
        "#Visualize os primeiros registros. O que foi alterado?\n",
        "#Insira sua resposta aqui#"
      ],
      "metadata": {
        "id": "Zfv47UQb6Ai0"
      },
      "execution_count": null,
      "outputs": []
    },
    {
      "cell_type": "markdown",
      "source": [
        "**Atividade 1:** Selecione as internações relacionadas à doença de Crohn\n",
        "\n",
        "Para selecionar os dados, vamos usar o pacote \"sqldf\" que permite utilizar a sintaxe do SQL dentro da linguagem R. Lembrando que os códigos da CID-10 são armazenados no campo \"DIAG_PRINC\". DE acordo com a CID-10, a doença de Crohn pode ser identificada com os códigos:\n",
        "\n",
        "*   K50   \tDoença de Crohn (enterite regional)\n",
        "*   K500   \tDoença de Crohn do intestino delgado\n",
        "*   K501   \tDoença de Crohn do intestino grosso\n",
        "*   K508   \tOutra forma de doença de Crohn\n",
        "*   K509   \tDoença de Crohn de localização não especificada\n",
        "\n",
        "\n",
        "**DICA:** Que tal usar o operador IN (valor1, valor2...) na sua seleção?"
      ],
      "metadata": {
        "id": "DVIvi1mxufH0"
      }
    },
    {
      "cell_type": "code",
      "source": [
        "#Instale o pacote sqldf\n",
        "#Insira sua resposta aqui#"
      ],
      "metadata": {
        "id": "wKP1_2z4vHPI"
      },
      "execution_count": null,
      "outputs": []
    },
    {
      "cell_type": "code",
      "source": [
        "#Ativar o pacote sqldf\n",
        "#Insira sua resposta aqui#"
      ],
      "metadata": {
        "id": "3k5vtS8Uwr0v"
      },
      "execution_count": null,
      "outputs": []
    },
    {
      "cell_type": "code",
      "source": [
        "#Aplique o filtro usando o sqldf\n",
        "crohn <- data.frame(sqldf('SELECT ??? \n",
        "                            FROM ???\n",
        "                            WHERE ??? '))\n",
        "                          "
      ],
      "metadata": {
        "id": "fg6OJH49w5xc"
      },
      "execution_count": null,
      "outputs": []
    },
    {
      "cell_type": "code",
      "source": [
        "#Visualize os primeiros registros. O que foi alterado?\n",
        "#Insira sua resposta aqui#"
      ],
      "metadata": {
        "id": "zkJksYYmxuqv"
      },
      "execution_count": null,
      "outputs": []
    },
    {
      "cell_type": "markdown",
      "source": [
        "**Atividade 2:** Quantas internações por doença de Crohn foram processadas no DF em 2018?\n",
        "\n",
        "Para tanto, lembre-se que a chave primária do banco de RD é o campo N_AIH.\n",
        "\n",
        "**DICA:** Resgate o uso da função COUNT() "
      ],
      "metadata": {
        "id": "SePoq9W56rmf"
      }
    },
    {
      "cell_type": "code",
      "source": [
        "#Aplicar a contagem usando o sqldf\n",
        "sqldf('SELECT ??? \n",
        "        FROM ???')"
      ],
      "metadata": {
        "id": "HK4DlNJt7BDf"
      },
      "execution_count": null,
      "outputs": []
    },
    {
      "cell_type": "markdown",
      "source": [
        "**Atividade 3:** Quais os números de internações por doença de Crohn no DF de acordo com o município de residência?\n",
        "\n",
        "Saiba que, após o processamento do microdatasus, o nome do município de residência pode ser obtido na variável \"munResNome\" \n",
        "\n",
        "**DICA:** Resgate o uso do comando GROUP BY"
      ],
      "metadata": {
        "id": "eMai9Yw4zJaG"
      }
    },
    {
      "cell_type": "code",
      "source": [
        "#Aplicar o agrupamento usando o sqldf\n",
        "sqldf('SELECT ???\n",
        "        FROM ???\n",
        "        GROUP BY ???')\n"
      ],
      "metadata": {
        "id": "SkbuptUcyy52"
      },
      "execution_count": null,
      "outputs": []
    },
    {
      "cell_type": "markdown",
      "source": [
        "**Salvando os dados obtidos**\n",
        "\n",
        "Vamos armazenar os ados dasinternações por doença de Crohn em um arquivo CSV. Para tanto, usamos a função \"write.csv\""
      ],
      "metadata": {
        "id": "7pu47WOt4vio"
      }
    },
    {
      "cell_type": "code",
      "source": [
        "#Salvando os registros de doença de Crohn\n",
        "write.csv(crohn, \"AIH_CROHN_DF_2018.csv\")"
      ],
      "metadata": {
        "id": "hvTL9Xt749KU"
      },
      "execution_count": null,
      "outputs": []
    },
    {
      "cell_type": "markdown",
      "source": [
        "**FIM**"
      ],
      "metadata": {
        "id": "lElS1Ph_6gJP"
      }
    }
  ]
}