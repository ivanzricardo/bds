{
  "nbformat": 4,
  "nbformat_minor": 0,
  "metadata": {
    "colab": {
      "provenance": [],
      "collapsed_sections": [],
      "authorship_tag": "ABX9TyN+I8mO6YHz3UtzZHZ9Xfhz",
      "include_colab_link": true
    },
    "kernelspec": {
      "name": "ir",
      "display_name": "R"
    },
    "language_info": {
      "name": "R"
    }
  },
  "cells": [
    {
      "cell_type": "markdown",
      "metadata": {
        "id": "view-in-github",
        "colab_type": "text"
      },
      "source": [
        "<a href=\"https://colab.research.google.com/github/ivanzricardo/bds/blob/main/M%C3%B3dulo_R_Lista_6.ipynb\" target=\"_parent\"><img src=\"https://colab.research.google.com/assets/colab-badge.svg\" alt=\"Open In Colab\"/></a>"
      ]
    },
    {
      "cell_type": "markdown",
      "source": [
        "# **Criando Gráficos com o R**\n",
        "Autor: Ivan Zimmermann (ivanzricardo@gmail.com)"
      ],
      "metadata": {
        "id": "EL38Pmhqo1dX"
      }
    },
    {
      "cell_type": "code",
      "source": [
        "#Instalar o pacote microdatasus e read.dbc para download e leitura dos arquivos\n",
        "install.packages(\"remotes\")\n",
        "remotes::install_github(\"rfsaldanha/microdatasus\")\n",
        "install.packages(\"read.dbc\")"
      ],
      "metadata": {
        "id": "Rbo5sPWMqwzq"
      },
      "execution_count": null,
      "outputs": []
    },
    {
      "cell_type": "code",
      "source": [
        "#Ativar os pacotes\n",
        "library(microdatasus)\n",
        "library(read.dbc)"
      ],
      "metadata": {
        "id": "LgjxkOuUq7qK"
      },
      "execution_count": null,
      "outputs": []
    },
    {
      "cell_type": "markdown",
      "source": [
        "**Obtendo os arquivos de dados**\n",
        "\n",
        "A obtenção de dados fará uso da função read.dbc, armazenando no objeto \"dados\":"
      ],
      "metadata": {
        "id": "t8jEinV1rIr-"
      }
    },
    {
      "cell_type": "code",
      "source": [
        "#1) Com o read.dbc ativo, siga os mesmos passos de antes, criando um aqruivo temporário\n",
        "temp <- tempfile()\n",
        "\n",
        "#2)Depois fazemos o download do arquivo comprimido dentro desse arquivo temporário\n",
        "download.file(\"https://github.com/ivanzricardo/bds/raw/main/aih_df_2018.dbc\",temp) \n",
        "\n",
        "#3)Os arquivos estão comprimidos em formato zip, assim precisamos usar a função \n",
        "#unz() dentro do read.csv: read.csv(unz('nomedoarquivo.zip','nomedoarquivo.csv'), header = T)\n",
        "dados <- read.dbc(temp)\n",
        "\n",
        "#4)Excluímos o arquivo temporário\n",
        "unlink(temp)\n"
      ],
      "metadata": {
        "id": "sXPn05-xgSvl"
      },
      "execution_count": null,
      "outputs": []
    },
    {
      "cell_type": "code",
      "source": [
        "head(dados)"
      ],
      "metadata": {
        "id": "7k4mo53OpBq3"
      },
      "execution_count": null,
      "outputs": []
    },
    {
      "cell_type": "markdown",
      "source": [
        "**Processamento dos dados**\n",
        "\n",
        "O pacote *microdatasus* permite traduzir a maioria dos códigos disponíveis nos arquivos de dados da AIH por meio da função \"process_sih\". Para isso, basta aplicar a função sobre o objeto \"dados\" recém criado:"
      ],
      "metadata": {
        "id": "He-HbKfAr7RB"
      }
    },
    {
      "cell_type": "code",
      "source": [
        "#Processar os dados (traduzir os códigos do banco)\n",
        "dados <- process_sih(dados)"
      ],
      "metadata": {
        "id": "p5fvHBxwtFy1"
      },
      "execution_count": null,
      "outputs": []
    },
    {
      "cell_type": "code",
      "source": [
        "#Visualizar os primeiros registros\n",
        "head(dados)"
      ],
      "metadata": {
        "id": "Zfv47UQb6Ai0"
      },
      "execution_count": null,
      "outputs": []
    },
    {
      "cell_type": "code",
      "source": [
        "#Aplicar o filtro de doença de Crohn usando o sqldf\n",
        "install.packages(\"sqldf\")\n",
        "library(sqldf)\n",
        "crohn <- data.frame(sqldf('SELECT * \n",
        "                            FROM dados\n",
        "                            WHERE DIAG_PRINC IN (\"K50\",\"K500\",\"K501\", \"K508\",\"K509\")'))"
      ],
      "metadata": {
        "id": "gkn5ikt2rHVI"
      },
      "execution_count": null,
      "outputs": []
    },
    {
      "cell_type": "markdown",
      "source": [
        "**Atividade 1:** Faça um histograma da idade dos pacientes internados\n",
        "\n",
        "Lembre-se que uma opção no rbase é o uso da função hist() e que a variável IDADE aramzena a idade do paciente no moemnto da internação.\n",
        "\n",
        "**DICA** É preciso garantir que o dado de análise seja numérico. Você pode converter dados em valores numéricos com uso da função as.numeric()"
      ],
      "metadata": {
        "id": "DVIvi1mxufH0"
      }
    },
    {
      "cell_type": "code",
      "source": [
        "#Crie o gráfico com a função hist()\n",
        "#INSIRA SUA RESPOSTA AQUI#"
      ],
      "metadata": {
        "id": "wKP1_2z4vHPI"
      },
      "execution_count": null,
      "outputs": []
    },
    {
      "cell_type": "markdown",
      "source": [
        "**Atividade 2:** Faça um gráfico de dispersão entre o tempo de permanência e o valor total da internação\n",
        "\n",
        "Lembre-se que uma opção no rbase é o uso da função plot() e que a variável DIAS_PERM E VAL_TOT armazenam o tempo de permanência e o valor total da internação, respectivamente.\n",
        "\n",
        "**DICA** É preciso garantir que o dado de análise seja numérico. Você pode converter dados em valores numéricos com uso da função as.numeric()"
      ],
      "metadata": {
        "id": "SePoq9W56rmf"
      }
    },
    {
      "cell_type": "code",
      "source": [
        "#Crie o gráfico com a função plot()\n",
        "#INSIRA SUA RESPOSTA AQUI#"
      ],
      "metadata": {
        "id": "HK4DlNJt7BDf"
      },
      "execution_count": null,
      "outputs": []
    },
    {
      "cell_type": "markdown",
      "source": [
        "**Salvando os gráficos**\n",
        "\n",
        "Vamos armazenar os gráficos em figuras .png\""
      ],
      "metadata": {
        "id": "7pu47WOt4vio"
      }
    },
    {
      "cell_type": "code",
      "source": [
        "# 1. Crie um arquivo vazio jpeg\n",
        "#INSIRA SUA RESPOSTA AQUI#\n",
        "\n",
        "# 2. Crie o gráfico\n",
        "#INSIRA SUA RESPOSTA AQUI#\n",
        "\n",
        "# 3. Feche o arquivo\n",
        "#INSIRA SUA RESPOSTA AQUI#"
      ],
      "metadata": {
        "id": "hvTL9Xt749KU"
      },
      "execution_count": null,
      "outputs": []
    },
    {
      "cell_type": "markdown",
      "source": [
        "**FIM**"
      ],
      "metadata": {
        "id": "lElS1Ph_6gJP"
      }
    }
  ]
}