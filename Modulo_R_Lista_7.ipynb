{
  "nbformat": 4,
  "nbformat_minor": 0,
  "metadata": {
    "colab": {
      "provenance": [],
      "collapsed_sections": [],
      "authorship_tag": "ABX9TyOmbUOK+ZkVMDhdJLp40a//",
      "include_colab_link": true
    },
    "kernelspec": {
      "name": "ir",
      "display_name": "R"
    },
    "language_info": {
      "name": "R"
    }
  },
  "cells": [
    {
      "cell_type": "markdown",
      "metadata": {
        "id": "view-in-github",
        "colab_type": "text"
      },
      "source": [
        "<a href=\"https://colab.research.google.com/github/ivanzricardo/bds/blob/main/Modulo_R_Lista_7.ipynb\" target=\"_parent\"><img src=\"https://colab.research.google.com/assets/colab-badge.svg\" alt=\"Open In Colab\"/></a>"
      ]
    },
    {
      "cell_type": "markdown",
      "metadata": {
        "id": "HO-UOrOTGgUC"
      },
      "source": [
        "#**Introdução à linguagem R para análise de dados**\n",
        "Autoria: Ivan Zimmermann, Departamento de Saúde Coletiva, Universidade de Brasília (ivan.zimmermann@unb.br)\n",
        "\n"
      ]
    },
    {
      "cell_type": "markdown",
      "metadata": {
        "id": "1FQ8nVegeJHR"
      },
      "source": [
        "**Criando funções**\n",
        "\n",
        "Apesar de trmos disponíveis quase 20 mil pacotes de funções na rede CRAN, algumas situações podem exigir oiperações bem específicas ou até operações simples, que tornam mais prático executar seu próprio cálculo. A criação de funções em R tem a seguinte sinatxe e elementos obrigatórios:\n",
        "\n",
        "![image.png](data:image/png;base64,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)\n",
        "\n",
        "*Descrição dos elementos*\n",
        "\n",
        "nome: trata-se do nome pelo qual você chamará a função posteriormente\n",
        "\n",
        "function (): comando para a definição de sua função\n",
        "\n",
        "argumento: argumentos de entrada de dados que serão necessários para a função\n",
        "\n",
        "{ }: todos os comandos e fórmulas que definem a função ficam delimitados entre as chaves\n",
        "\n",
        "**DICAS**:\n",
        "\n",
        "1) O comando return() não é obrigatório, mas essencial quando se deseja recuperar algum resultado da função \n",
        "\n"
      ]
    },
    {
      "cell_type": "markdown",
      "metadata": {
        "id": "hp986K2liMa9"
      },
      "source": [
        "*Exercício 2.4: Execute as operações solicitadas*"
      ]
    },
    {
      "cell_type": "code",
      "metadata": {
        "id": "84pijYmxiJvv"
      },
      "source": [
        "#Determinando teste diagnóstico tem como valor de referência para descartar a COVID-19 a concentração menor ou igual a 79.9 UI. \n",
        "#Com base neste cenário, crie a função \"teste_covid\" que recebe como argumento o \"resultado\" do teste e retorna a classificação em \"COVID-19 confirmada\" ou \"COVID-19 descartada\"\n",
        "### INSIRA SUA RESPOSTA AQUI ###"
      ],
      "execution_count": null,
      "outputs": []
    },
    {
      "cell_type": "code",
      "metadata": {
        "id": "UhJI7yjjiUUd"
      },
      "source": [
        "#Teste sua função com os resultados de 93 e 58\n",
        "### INSIRA SUA RESPOSTA AQUI ###"
      ],
      "execution_count": null,
      "outputs": []
    },
    {
      "cell_type": "code",
      "metadata": {
        "id": "CJ88zagtiagl"
      },
      "source": [
        "#Dado que o contexto diagnóstico pode exigir a variação dos valores de referência, revise a função \"teste_covid\" para que, além do argumento \"resultado\", receba também o argumento \"referência\"\n",
        "### INSIRA SUA RESPOSTA AQUI ###"
      ],
      "execution_count": null,
      "outputs": []
    },
    {
      "cell_type": "code",
      "metadata": {
        "id": "1I3PIocnicYV"
      },
      "source": [
        "#Teste sua função com os resultados de 93 e 58, contudo adotando agora o valor de 49,9 como referência\n",
        "### INSIRA SUA RESPOSTA AQUI ###"
      ],
      "execution_count": null,
      "outputs": []
    },
    {
      "cell_type": "markdown",
      "metadata": {
        "id": "F8egQfUAXNP4"
      },
      "source": [
        "# **Referências**\n",
        "\n",
        "Alcoforado LF. Utilizando A Linguagem R: Conceitos, manipulação, visualização, modelagem e elaboração de relatórios. Rio de Janeiro: Alta Book, 2021. 367p\n",
        "\n",
        "Figueira L. Criando funções no R. Estatística é com R! Disponível em: http://www.estatisticacomr.uff.br/?p=224 \n",
        "\n",
        "Grolemund G. Hands-On Programming with R. O'Reilly Media; 1ª edição, 2014. Disponível em: https://rstudio-education.github.io/hopr \n",
        "\n",
        "Wickham H. Advanced R. CRC Press; 1ª edição, 2014. Disponível em: http://adv-r.had.co.nz/ "
      ]
    }
  ]
}